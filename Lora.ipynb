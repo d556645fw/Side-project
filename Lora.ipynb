{
  "nbformat": 4,
  "nbformat_minor": 0,
  "metadata": {
    "colab": {
      "provenance": [],
      "toc_visible": true,
      "gpuType": "T4",
      "authorship_tag": "ABX9TyOwqYkbXtFh/hphMc2gAdIt",
      "include_colab_link": true
    },
    "kernelspec": {
      "name": "python3",
      "display_name": "Python 3"
    },
    "language_info": {
      "name": "python"
    },
    "accelerator": "GPU"
  },
  "cells": [
    {
      "cell_type": "markdown",
      "metadata": {
        "id": "view-in-github",
        "colab_type": "text"
      },
      "source": [
        "<a href=\"https://colab.research.google.com/github/d556645fw/Side-project/blob/main/Lora.ipynb\" target=\"_parent\"><img src=\"https://colab.research.google.com/assets/colab-badge.svg\" alt=\"Open In Colab\"/></a>"
      ]
    },
    {
      "cell_type": "code",
      "execution_count": null,
      "metadata": {
        "id": "mDCg2sh_qzlX"
      },
      "outputs": [],
      "source": [
        "!rm -rf /content/diffusers\n",
        "!git clone https://github.com/huggingface/diffusers.git\n"
      ]
    },
    {
      "cell_type": "code",
      "source": [
        "!pip install -r ./diffusers/examples/text_to_image/requirements.txt"
      ],
      "metadata": {
        "id": "xYwes5bTq6vi"
      },
      "execution_count": null,
      "outputs": []
    },
    {
      "cell_type": "code",
      "source": [
        "!huggingface-cli login"
      ],
      "metadata": {
        "id": "7aB__rXOs4Fw"
      },
      "execution_count": null,
      "outputs": []
    },
    {
      "cell_type": "code",
      "source": [
        "!export MODEL_NAME=\"CompVis/stable-diffusion-v1-4\"\n",
        "!export DATASET_NAME=\"lambdalabs/naruto-blip-captions\"\n",
        "\n",
        "!accelerate launch --mixed_precision=\"fp16\"  train_text_to_image.py \\\n",
        "  --pretrained_model_name_or_path=$MODEL_NAME \\\n",
        "  --dataset_name=$DATASET_NAME \\\n",
        "  --use_ema \\\n",
        "  --resolution=512 --center_crop --random_flip \\\n",
        "  --train_batch_size=1 \\\n",
        "  --gradient_accumulation_steps=4 \\\n",
        "  --gradient_checkpointing \\\n",
        "  --max_train_steps=15000 \\\n",
        "  --learning_rate=1e-05 \\\n",
        "  --max_grad_norm=1 \\\n",
        "  --lr_scheduler=\"constant\" --lr_warmup_steps=0 \\\n",
        "  --output_dir=\"sd-naruto-model\""
      ],
      "metadata": {
        "id": "gNp0TXsNte09"
      },
      "execution_count": null,
      "outputs": []
    },
    {
      "cell_type": "code",
      "source": [
        "!pip install diffusers"
      ],
      "metadata": {
        "id": "IxigHOCuuLrZ"
      },
      "execution_count": null,
      "outputs": []
    },
    {
      "cell_type": "code",
      "source": [
        "import torch\n",
        "from diffusers import StableDiffusionPipeline\n",
        "\n",
        "model_path = \"CompVis/stable-diffusion-v1-4\"\n",
        "pipe = StableDiffusionPipeline.from_pretrained(model_path, torch_dtype=torch.float16)\n",
        "pipe.to(\"cuda\")\n",
        "\n",
        "image = pipe(prompt=\"yoda\").images[0]\n",
        "image.save(\"yoda-naruto.png\")"
      ],
      "metadata": {
        "id": "il3ALiagtzAM"
      },
      "execution_count": null,
      "outputs": []
    },
    {
      "cell_type": "code",
      "source": [
        "!mkdir train\n",
        "!unzip train.zip -d train"
      ],
      "metadata": {
        "id": "bisaLO9p6xz9"
      },
      "execution_count": null,
      "outputs": []
    },
    {
      "cell_type": "code",
      "source": [
        "!accelerate launch --mixed_precision=\"fp16\" ./diffusers/examples/text_to_image/train_text_to_image_lora.py \\\n",
        "  --pretrained_model_name_or_path=\"CompVis/stable-diffusion-v1-4\" \\\n",
        "  --dataset_name=\"./train\" --caption_column=\"text\" \\\n",
        "  --resolution=512 --random_flip \\\n",
        "  --train_batch_size=1 \\\n",
        "  --num_train_epochs=100 --checkpointing_steps=5000 \\\n",
        "  --learning_rate=1e-04 --lr_scheduler=\"constant\" --lr_warmup_steps=0 \\\n",
        "  --seed=42 \\\n",
        "  --output_dir=\"sd-my-model-lora\" \\\n",
        "  --validation_prompt=\"a girl with white hair\" --report_to=\"wandb\"\\\n",
        "  --mixed_precision=\"no\""
      ],
      "metadata": {
        "id": "2_4acIfOwrvF"
      },
      "execution_count": null,
      "outputs": []
    },
    {
      "cell_type": "code",
      "source": [
        "!pip uninstall -y diffusers\n",
        "!git clone https://github.com/huggingface/diffusers.git\n",
        "!pip install -e ./diffusers"
      ],
      "metadata": {
        "id": "sY8pl0tdy4gv"
      },
      "execution_count": null,
      "outputs": []
    },
    {
      "cell_type": "code",
      "source": [
        "!pip install -U peft"
      ],
      "metadata": {
        "id": "bp2jlzpJxn_s"
      },
      "execution_count": null,
      "outputs": []
    },
    {
      "cell_type": "code",
      "source": [
        "from diffusers import StableDiffusionPipeline\n",
        "import torch\n",
        "\n",
        "model_path = \"./sd-my-model-lora\"\n",
        "pipe = StableDiffusionPipeline.from_pretrained(\"CompVis/stable-diffusion-v1-4\", torch_dtype=torch.float16)\n",
        "pipe.unet.load_attn_procs(model_path)\n",
        "pipe.to(\"cuda\")"
      ],
      "metadata": {
        "id": "HdXIzdjZxGoF"
      },
      "execution_count": null,
      "outputs": []
    },
    {
      "cell_type": "code",
      "source": [
        "import matplotlib.pyplot as plt\n",
        "prompt = \"A girl who has blue hair\"\n",
        "image = pipe(prompt, num_inference_steps=100, guidance_scale=8.3).images[0]\n",
        "plt.imshow(image)"
      ],
      "metadata": {
        "id": "3GO8GZolURbU"
      },
      "execution_count": null,
      "outputs": []
    }
  ]
}