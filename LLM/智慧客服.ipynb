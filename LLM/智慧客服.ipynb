{
  "nbformat": 4,
  "nbformat_minor": 0,
  "metadata": {
    "colab": {
      "provenance": [],
      "gpuType": "L4",
      "authorship_tag": "ABX9TyNIewZEwtZ6WTh4UykMCBSh",
      "include_colab_link": true
    },
    "kernelspec": {
      "name": "python3",
      "display_name": "Python 3"
    },
    "language_info": {
      "name": "python"
    },
    "accelerator": "GPU"
  },
  "cells": [
    {
      "cell_type": "markdown",
      "metadata": {
        "id": "view-in-github",
        "colab_type": "text"
      },
      "source": [
        "<a href=\"https://colab.research.google.com/github/d556645fw/Side-project/blob/main/%E6%99%BA%E6%85%A7%E5%AE%A2%E6%9C%8D.ipynb\" target=\"_parent\"><img src=\"https://colab.research.google.com/assets/colab-badge.svg\" alt=\"Open In Colab\"/></a>"
      ]
    },
    {
      "cell_type": "code",
      "execution_count": null,
      "metadata": {
        "id": "b5GT5_uwEpOT"
      },
      "outputs": [],
      "source": [
        "!pip install transformers\n",
        "!pip install sentence-transformers"
      ]
    },
    {
      "cell_type": "code",
      "source": [
        "import sqlite3\n",
        "\n",
        "conn = sqlite3.connect('faq.db')\n",
        "cursor = conn.cursor()\n",
        "\n",
        "cursor.execute('''\n",
        "CREATE TABLE IF NOT EXISTS faq (\n",
        "    id INTEGER PRIMARY KEY AUTOINCREMENT,\n",
        "    question TEXT,\n",
        "    answer TEXT,\n",
        "    tags TEXT\n",
        ")\n",
        "''')\n",
        "\n",
        "faqs = [\n",
        "    (\"如何重設密碼？\", \"請至設定 > 安全性中選擇重設密碼。\", \"帳號,密碼\"),\n",
        "    (\"客服的聯絡方式是什麼？\", \"您可以透過 email@example.com 聯絡客服。\", \"聯絡,客服\"),\n",
        "    (\"如何取消訂閱？\", \"請至帳號設定頁面中選擇取消訂閱。\", \"訂閱,取消\"),\n",
        "    (\"有沒有提供退款？\", \"我們提供7天內退款保障，請聯絡客服。\", \"退款,保證\")\n",
        "]\n",
        "\n",
        "cursor.executemany(\"INSERT INTO faq (question, answer, tags) VALUES (?, ?, ?)\", faqs)\n",
        "conn.commit()"
      ],
      "metadata": {
        "id": "1kUc9miFEv1j"
      },
      "execution_count": null,
      "outputs": []
    },
    {
      "cell_type": "code",
      "source": [
        "from sentence_transformers import SentenceTransformer, util\n",
        "\n",
        "# 使用中文效果不錯的模型\n",
        "model = SentenceTransformer('sentence-transformers/paraphrase-multilingual-MiniLM-L12-v2')\n",
        "\n",
        "def get_faqs():\n",
        "    cursor.execute(\"SELECT question, answer FROM faq\")\n",
        "    return cursor.fetchall()\n",
        "\n",
        "def find_best_match(user_question, faqs, top_k=1):\n",
        "    questions = [q for q, _ in faqs]\n",
        "    embeddings = model.encode(questions + [user_question], convert_to_tensor=True)\n",
        "\n",
        "    # 最後一個是 user_question\n",
        "    similarity = util.cos_sim(embeddings[-1], embeddings[:-1])\n",
        "    best_idx = similarity.argmax()\n",
        "    score = similarity[0][best_idx].item()\n",
        "\n",
        "    # 設定最低相似度門檻\n",
        "    if score < 0.4:\n",
        "        return \"找不到相關答案，請聯絡客服進一步查詢。\"\n",
        "    return faqs[best_idx][1]"
      ],
      "metadata": {
        "id": "53fZdS80Ey3d"
      },
      "execution_count": null,
      "outputs": []
    },
    {
      "cell_type": "code",
      "source": [
        "while True:\n",
        "    user_input = input(\"請輸入問題（輸入 'exit' 離開）：\")\n",
        "    if user_input.lower() == 'exit':\n",
        "        break\n",
        "    faqs = get_faqs()\n",
        "    answer = find_best_match(user_input, faqs)\n",
        "    print(\"AI 客服回答：\", answer)"
      ],
      "metadata": {
        "id": "pO_U-5RmE5Rs"
      },
      "execution_count": null,
      "outputs": []
    }
  ]
}
